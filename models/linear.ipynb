{
 "cells": [
  {
   "cell_type": "code",
   "execution_count": 1,
   "metadata": {},
   "outputs": [],
   "source": [
    "import pandas as pd\n",
    "import numpy as np\n",
    "import matplotlib.pyplot as plt\n",
    "import seaborn as sns\n",
    "\n",
    "from utils.load import load_data, load_submission\n",
    "from utils.feature import (\n",
    "    add_hours,\n",
    "    add_hours_trig_cyclic,\n",
    "    apply_feature_engineering,\n",
    "    get_dummies,\n",
    "    fill_na_zero,\n",
    "    drop_non_input_cols,\n",
    "    normalize,\n",
    "    standardize\n",
    ")\n",
    "from utils.model import ModelEvalWrapper"
   ]
  },
  {
   "cell_type": "code",
   "execution_count": 2,
   "metadata": {},
   "outputs": [],
   "source": [
    "train_df, predict_df = load_data('../data')"
   ]
  },
  {
   "cell_type": "code",
   "execution_count": 3,
   "metadata": {},
   "outputs": [],
   "source": [
    "_train_df, _predict_df = apply_feature_engineering(\n",
    "    train_df,\n",
    "    predict_df,\n",
    "    funcs=[\n",
    "        add_hours,\n",
    "        fill_na_zero(\"all\"),\n",
    "        normalize([\"txpower_cell0\", \"txpower_cell1\", \"txpower_cell2\", \"txpower_cell3\"]),\n",
    "        standardize(\n",
    "            [\n",
    "                \"bandwidth_cell0\",\n",
    "                \"antennas_cell0\",\n",
    "                \"bandwidth_cell1\",\n",
    "                \"antennas_cell1\",\n",
    "                \"bandwidth_cell2\",\n",
    "                \"antennas_cell2\",\n",
    "                \"bandwidth_cell3\",\n",
    "                \"antennas_cell3\",\n",
    "            ]\n",
    "        ),\n",
    "        get_dummies(\n",
    "            [\n",
    "                \"hour\",\n",
    "                \"rutype\",\n",
    "                \"mode\",\n",
    "                \"frequency_cell0\",\n",
    "                \"frequency_cell1\",\n",
    "                \"frequency_cell2\",\n",
    "                \"frequency_cell3\",\n",
    "            ]\n",
    "        ),\n",
    "        drop_non_input_cols,\n",
    "    ],\n",
    ")\n"
   ]
  },
  {
   "cell_type": "code",
   "execution_count": 4,
   "metadata": {},
   "outputs": [
    {
     "name": "stderr",
     "output_type": "stream",
     "text": [
      "INFO:root:Fold 1/5\n",
      "INFO:root:Train MAE: 3.2889, MAPE: 0.1348, MSE: 19.8868\n",
      "INFO:root:Test MAE: 3.3017, MAPE: 0.1362, MSE: 19.9149\n",
      "INFO:root:Fold 2/5\n",
      "INFO:root:Train MAE: 3.2956, MAPE: 0.1352, MSE: 19.8926\n",
      "INFO:root:Test MAE: 3.2866, MAPE: 0.1342, MSE: 19.9539\n",
      "INFO:root:Fold 3/5\n",
      "INFO:root:Train MAE: 3.2853, MAPE: 0.1350, MSE: 19.8591\n",
      "INFO:root:Test MAE: 183028713.3548, MAPE: 6618714.0294, MSE: 620611898221916192768.0000\n",
      "INFO:root:Fold 4/5\n",
      "INFO:root:Train MAE: 3.3011, MAPE: 0.1356, MSE: 19.9647\n",
      "INFO:root:Test MAE: 3.2556, MAPE: 0.1333, MSE: 19.5817\n",
      "INFO:root:Fold 5/5\n",
      "INFO:root:Train MAE: 3.2844, MAPE: 0.1348, MSE: 19.8343\n",
      "INFO:root:Test MAE: 79406344.2873, MAPE: 1825527.3565, MSE: 116806923419585773568.0000\n",
      "INFO:root:\n",
      "Best model from fold 4\n",
      "INFO:root:Best model mae: 3.2556, mape: 0.1333 mse: 19.5817\n",
      "\n",
      "INFO:root:Average mae: 52487013.4972, mape: 1688848.3579, mse: 147483764328300380160.0000\n",
      "INFO:root:Std mae: 72153232.0775, mape: 2564327.6566, mse: 240850859193456361472.0000\n"
     ]
    }
   ],
   "source": [
    "from sklearn.linear_model import LinearRegression\n",
    "\n",
    "model_getter = lambda: LinearRegression()\n",
    "model_trainer = lambda model, X, y: model.fit(X, y)\n",
    "model_predictor = lambda model, X: model.predict(X)\n",
    "model_eval = ModelEvalWrapper(\n",
    "    model_getter,\n",
    "    name=\"Basic Linear Regression\",\n",
    "    model_trainer=model_trainer,\n",
    "    model_predictor=model_predictor,\n",
    ")\n",
    "\n",
    "model_eval.train_and_eval(_train_df)\n"
   ]
  },
  {
   "cell_type": "code",
   "execution_count": 5,
   "metadata": {},
   "outputs": [
    {
     "data": {
      "image/png": "[encoded data removed]",
      "text/plain": [
       "<Figure size 432x288 with 1 Axes>"
      ]
     },
     "metadata": {
      "needs_background": "light"
     },
     "output_type": "display_data"
    }
   ],
   "source": [
    "best_submission = load_submission(\"bestsubmission.csv\")\n",
    "model_eval.compare_predictions_with(_predict_df, best_submission['Energy'])"
   ]
  },
  {
   "cell_type": "code",
   "execution_count": null,
   "metadata": {},
   "outputs": [],
   "source": []
  }
 ],
 "metadata": {
  "kernelspec": {
   "display_name": "envBase",
   "language": "python",
   "name": "python3"
  },
  "language_info": {
   "codemirror_mode": {
    "name": "ipython",
    "version": 3
   },
   "file_extension": ".py",
   "mimetype": "text/x-python",
   "name": "python",
   "nbconvert_exporter": "python",
   "pygments_lexer": "ipython3",
   "version": "3.8.10"
  },
  "orig_nbformat": 4
 },
 "nbformat": 4,
 "nbformat_minor": 2
}
