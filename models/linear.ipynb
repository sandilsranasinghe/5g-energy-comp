{
 "cells": [
  {
   "cell_type": "code",
   "execution_count": 1,
   "metadata": {},
   "outputs": [],
   "source": [
    "import pandas as pd\n",
    "import numpy as np\n",
    "import matplotlib.pyplot as plt\n",
    "import seaborn as sns\n",
    "\n",
    "from utils.load import load_data, load_submission\n",
    "from utils.feature import (\n",
    "    add_hours,\n",
    "    add_hours_trig_cyclic,\n",
    "    apply_feature_engineering,\n",
    "    get_dummies,\n",
    "    fill_na_zero,\n",
    "    drop_non_input_cols,\n",
    "    normalize,\n",
    "    standardize\n",
    ")\n",
    "from utils.model import ModelEvalWrapper"
   ]
  },
  {
   "cell_type": "code",
   "execution_count": 3,
   "metadata": {},
   "outputs": [],
   "source": [
    "train_df, predict_df,train_1, test_data = load_data('../data')"
   ]
  },
  {
   "cell_type": "code",
   "execution_count": 4,
   "metadata": {},
   "outputs": [],
   "source": [
    "_train_df, _predict_df = apply_feature_engineering(\n",
    "    train_df,\n",
    "    predict_df,\n",
    "    funcs=[\n",
    "        add_hours,\n",
    "        fill_na_zero(\"all\"),\n",
    "        normalize([\"txpower_cell0\", \"txpower_cell1\", \"txpower_cell2\", \"txpower_cell3\"]),\n",
    "        standardize(\n",
    "            [\n",
    "                \"bandwidth_cell0\",\n",
    "                \"antennas_cell0\",\n",
    "                \"bandwidth_cell1\",\n",
    "                \"antennas_cell1\",\n",
    "                \"bandwidth_cell2\",\n",
    "                \"antennas_cell2\",\n",
    "                \"bandwidth_cell3\",\n",
    "                \"antennas_cell3\",\n",
    "            ]\n",
    "        ),\n",
    "        get_dummies(\n",
    "            [\n",
    "                \"hour\",\n",
    "                \"rutype\",\n",
    "                \"mode\",\n",
    "                \"frequency_cell0\",\n",
    "                \"frequency_cell1\",\n",
    "                \"frequency_cell2\",\n",
    "                \"frequency_cell3\",\n",
    "            ]\n",
    "        ),\n",
    "        drop_non_input_cols,\n",
    "    ],\n",
    ")\n"
   ]
  },
  {
   "cell_type": "code",
   "execution_count": 5,
   "metadata": {},
   "outputs": [
    {
     "name": "stderr",
     "output_type": "stream",
     "text": [
      "INFO:root:Fold 1/5\n",
      "INFO:root:Train MAE: 3.2888, MAPE: 0.1349, MSE: 19.8811\n",
      "INFO:root:Test MAE: 3.3023, MAPE: 0.1363, MSE: 19.9183\n",
      "INFO:root:Fold 2/5\n",
      "INFO:root:Train MAE: 3.3063, MAPE: 0.1359, MSE: 20.0028\n",
      "INFO:root:Test MAE: 3.2989, MAPE: 0.1350, MSE: 20.0555\n",
      "INFO:root:Fold 3/5\n",
      "INFO:root:Train MAE: 3.2879, MAPE: 0.1350, MSE: 19.8568\n",
      "INFO:root:Test MAE: 13078930.9997, MAPE: 472962.4400, MSE: 3169026984635324416.0000\n",
      "INFO:root:Fold 4/5\n",
      "INFO:root:Train MAE: 3.2986, MAPE: 0.1353, MSE: 19.9774\n",
      "INFO:root:Test MAE: 3.2511, MAPE: 0.1330, MSE: 19.5773\n",
      "INFO:root:Fold 5/5\n",
      "INFO:root:Train MAE: 3.2839, MAPE: 0.1348, MSE: 19.8323\n",
      "INFO:root:Test MAE: 4021197.3414, MAPE: 92446.1432, MSE: 299549275501566400.0000\n",
      "INFO:root:\n",
      "Best model from fold 4\n",
      "INFO:root:Best model mae: 3.2511, mape: 0.1330 mse: 19.5773\n",
      "\n",
      "INFO:root:Average mae: 3420027.6387, mape: 113081.7975, mse: 693715252027378176.0000\n",
      "INFO:root:Std mae: 5074357.4747, mape: 183467.8688, mse: 1243081456970807296.0000\n"
     ]
    }
   ],
   "source": [
    "from sklearn.linear_model import LinearRegression\n",
    "\n",
    "model_getter = lambda: LinearRegression()\n",
    "model_trainer = lambda model, X, y: model.fit(X, y)\n",
    "model_predictor = lambda model, X: model.predict(X)\n",
    "model_eval = ModelEvalWrapper(\n",
    "    model_getter,\n",
    "    name=\"Basic Linear Regression\",\n",
    "    model_trainer=model_trainer,\n",
    "    model_predictor=model_predictor,\n",
    ")\n",
    "\n",
    "model_eval.train_and_eval(_train_df)\n"
   ]
  },
  {
   "cell_type": "code",
   "execution_count": 6,
   "metadata": {},
   "outputs": [
    {
     "data": {
      "image/png": "[encoded data removed]",
      "text/plain": [
       "<Figure size 640x480 with 1 Axes>"
      ]
     },
     "metadata": {},
     "output_type": "display_data"
    }
   ],
   "source": [
    "best_submission = load_submission(\"bestsubmission.csv\")\n",
    "model_eval.compare_predictions_with(_predict_df, best_submission['Energy'])"
   ]
  }
 ],
 "metadata": {
  "kernelspec": {
   "display_name": "envBase",
   "language": "python",
   "name": "python3"
  },
  "language_info": {
   "codemirror_mode": {
    "name": "ipython",
    "version": 3
   },
   "file_extension": ".py",
   "mimetype": "text/x-python",
   "name": "python",
   "nbconvert_exporter": "python",
   "pygments_lexer": "ipython3",
   "version": "3.9.13"
  },
  "orig_nbformat": 4
 },
 "nbformat": 4,
 "nbformat_minor": 2
}
