{
 "cells": [
  {
   "cell_type": "code",
   "execution_count": 2,
   "metadata": {},
   "outputs": [],
   "source": [
    "import lightgbm as lgb\n",
    "from utils.load import load_data, load_submission\n",
    "from utils.feature import (\n",
    "    add_hours,\n",
    "    add_hours_trig_cyclic,\n",
    "    apply_feature_engineering,\n",
    "    get_dummies,\n",
    "    fill_na_zero,\n",
    "    drop_non_input_cols,\n",
    "    normalize,\n",
    "    standardize\n",
    ")\n",
    "from utils.model import ModelEvalWrapper"
   ]
  },
  {
   "cell_type": "code",
   "execution_count": 3,
   "metadata": {},
   "outputs": [],
   "source": [
    "train_df, predict_df = load_data('../data')"
   ]
  },
  {
   "cell_type": "code",
   "execution_count": 4,
   "metadata": {},
   "outputs": [],
   "source": [
    "_train_df, _predict_df = apply_feature_engineering(\n",
    "    train_df,\n",
    "    predict_df,\n",
    "    funcs=[\n",
    "        add_hours,\n",
    "        fill_na_zero(\"all\"),\n",
    "        normalize([\"txpower_cell0\", \"txpower_cell1\", \"txpower_cell2\", \"txpower_cell3\"]),\n",
    "        standardize(\n",
    "            [\n",
    "                \"bandwidth_cell0\",\n",
    "                \"antennas_cell0\",\n",
    "                \"bandwidth_cell1\",\n",
    "                \"antennas_cell1\",\n",
    "                \"bandwidth_cell2\",\n",
    "                \"antennas_cell2\",\n",
    "                \"bandwidth_cell3\",\n",
    "                \"antennas_cell3\",\n",
    "            ]\n",
    "        ),\n",
    "        get_dummies(\n",
    "            [\n",
    "                \"hour\",\n",
    "                \"rutype\",\n",
    "                \"mode\",\n",
    "                \"frequency_cell0\",\n",
    "                \"frequency_cell1\",\n",
    "                \"frequency_cell2\",\n",
    "                \"frequency_cell3\",\n",
    "            ]\n",
    "        ),\n",
    "        drop_non_input_cols,\n",
    "    ],\n",
    ")"
   ]
  },
  {
   "cell_type": "code",
   "execution_count": 7,
   "metadata": {},
   "outputs": [
    {
     "name": "stderr",
     "output_type": "stream",
     "text": [
      "INFO:root:Fold 1/5\n",
      "/home/sandil/Work/envBase/lib/python3.8/site-packages/lightgbm/engine.py:172: UserWarning: Found `num_boost_round` in params. Will use it instead of argument\n",
      "  _log_warning(f\"Found `{alias}` in params. Will use it instead of argument\")\n"
     ]
    },
    {
     "name": "stdout",
     "output_type": "stream",
     "text": [
      "[LightGBM] [Warning] num_iterations is set=10000, num_boost_round=10000 will be ignored. Current value: num_iterations=10000\n",
      "[LightGBM] [Warning] num_iterations is set=10000, num_boost_round=10000 will be ignored. Current value: num_iterations=10000\n"
     ]
    },
    {
     "name": "stderr",
     "output_type": "stream",
     "text": [
      "INFO:root:Train MAE: 2.3705, MAPE: 0.0881, MSE: 11.5189\n",
      "INFO:root:Test MAE: 2.5683, MAPE: 0.0951, MSE: 13.5556\n",
      "INFO:root:Fold 2/5\n",
      "/home/sandil/Work/envBase/lib/python3.8/site-packages/lightgbm/engine.py:172: UserWarning: Found `num_boost_round` in params. Will use it instead of argument\n",
      "  _log_warning(f\"Found `{alias}` in params. Will use it instead of argument\")\n"
     ]
    },
    {
     "name": "stdout",
     "output_type": "stream",
     "text": [
      "[LightGBM] [Warning] num_iterations is set=10000, num_boost_round=10000 will be ignored. Current value: num_iterations=10000\n",
      "[LightGBM] [Warning] num_iterations is set=10000, num_boost_round=10000 will be ignored. Current value: num_iterations=10000\n"
     ]
    },
    {
     "name": "stderr",
     "output_type": "stream",
     "text": [
      "INFO:root:Train MAE: 2.3950, MAPE: 0.0890, MSE: 11.7232\n",
      "INFO:root:Test MAE: 2.5359, MAPE: 0.0928, MSE: 13.3069\n",
      "INFO:root:Fold 3/5\n",
      "/home/sandil/Work/envBase/lib/python3.8/site-packages/lightgbm/engine.py:172: UserWarning: Found `num_boost_round` in params. Will use it instead of argument\n",
      "  _log_warning(f\"Found `{alias}` in params. Will use it instead of argument\")\n"
     ]
    },
    {
     "name": "stdout",
     "output_type": "stream",
     "text": [
      "[LightGBM] [Warning] num_iterations is set=10000, num_boost_round=10000 will be ignored. Current value: num_iterations=10000\n",
      "[LightGBM] [Warning] num_iterations is set=10000, num_boost_round=10000 will be ignored. Current value: num_iterations=10000\n"
     ]
    },
    {
     "name": "stderr",
     "output_type": "stream",
     "text": [
      "INFO:root:Train MAE: 2.3754, MAPE: 0.0881, MSE: 11.6386\n",
      "INFO:root:Test MAE: 2.5620, MAPE: 0.0944, MSE: 13.4924\n",
      "INFO:root:Fold 4/5\n",
      "/home/sandil/Work/envBase/lib/python3.8/site-packages/lightgbm/engine.py:172: UserWarning: Found `num_boost_round` in params. Will use it instead of argument\n",
      "  _log_warning(f\"Found `{alias}` in params. Will use it instead of argument\")\n"
     ]
    },
    {
     "name": "stdout",
     "output_type": "stream",
     "text": [
      "[LightGBM] [Warning] num_iterations is set=10000, num_boost_round=10000 will be ignored. Current value: num_iterations=10000\n",
      "[LightGBM] [Warning] num_iterations is set=10000, num_boost_round=10000 will be ignored. Current value: num_iterations=10000\n"
     ]
    },
    {
     "name": "stderr",
     "output_type": "stream",
     "text": [
      "INFO:root:Train MAE: 2.3842, MAPE: 0.0884, MSE: 11.6897\n",
      "INFO:root:Test MAE: 2.5211, MAPE: 0.0932, MSE: 13.0805\n",
      "INFO:root:Fold 5/5\n",
      "/home/sandil/Work/envBase/lib/python3.8/site-packages/lightgbm/engine.py:172: UserWarning: Found `num_boost_round` in params. Will use it instead of argument\n",
      "  _log_warning(f\"Found `{alias}` in params. Will use it instead of argument\")\n"
     ]
    },
    {
     "name": "stdout",
     "output_type": "stream",
     "text": [
      "[LightGBM] [Warning] num_iterations is set=10000, num_boost_round=10000 will be ignored. Current value: num_iterations=10000\n",
      "[LightGBM] [Warning] num_iterations is set=10000, num_boost_round=10000 will be ignored. Current value: num_iterations=10000\n"
     ]
    },
    {
     "name": "stderr",
     "output_type": "stream",
     "text": [
      "INFO:root:Train MAE: 2.4014, MAPE: 0.0893, MSE: 11.8323\n",
      "INFO:root:Test MAE: 2.5514, MAPE: 0.0940, MSE: 13.2527\n",
      "INFO:root:\n",
      "Best model from fold 4\n",
      "INFO:root:Best model mae: 2.5211, mape: 0.0932 mse: 13.0805\n",
      "\n",
      "INFO:root:Average mae: 2.5477, mape: 0.0939, mse: 13.3376\n",
      "INFO:root:Std mae: 0.0173, mape: 0.0008, mse: 0.1707\n",
      "\n",
      "INFO:root:Analytic evaluations for best model\n",
      "INFO:root:Error metrics by number of cells in usage\n",
      "INFO:root:Metrics for 0 cells in usage (87225 records): MAE: 2.4137, MAPE: 0.0914, MSE: 12.0347\n",
      "INFO:root:Metrics for 1 cells in usage (5335 records): MAE: 2.3822, MAPE: 0.0562, MSE: 10.9385\n",
      "INFO:root:No data for 2 cells in usage\n",
      "INFO:root:Metrics for 3 cells in usage (40 records): MAE: 2.7270, MAPE: 0.0450, MSE: 11.4680\n"
     ]
    }
   ],
   "source": [
    "params = {\n",
    "    \"objective\": \"regression\",\n",
    "    \"boosting_type\": \"gbdt\",\n",
    "    # 'learning_rate': 0.01,\n",
    "    \"n_jobs\": -1,\n",
    "    \"max_depth\": -1,\n",
    "    \"metric\": \"mae\",\n",
    "    \"num_boost_round\": 10000,\n",
    "    \"verbosity\": 0,\n",
    "}\n",
    "\n",
    "early_stopping_callback = lgb.early_stopping(100, first_metric_only=True, verbose=False)\n",
    "\n",
    "model_getter = lambda: lgb.LGBMRegressor(**params)\n",
    "model_trainer = lambda model, X, y, *args, **kwargs: model.fit(\n",
    "    X,\n",
    "    y,\n",
    "    callbacks=[early_stopping_callback],\n",
    "    eval_set=[(kwargs[\"X_test\"], kwargs[\"y_test\"])],\n",
    ")\n",
    "model_predictor = lambda model, X: model.predict(X)\n",
    "model_eval = ModelEvalWrapper(\n",
    "    model_getter,\n",
    "    name=\"Basic Linear Regression\",\n",
    "    model_trainer=model_trainer,\n",
    "    model_predictor=model_predictor,\n",
    ")\n",
    "\n",
    "model_eval.train_and_eval(_train_df)\n"
   ]
  },
  {
   "cell_type": "code",
   "execution_count": null,
   "metadata": {},
   "outputs": [],
   "source": [
    "best_submission = load_submission(\"bestsubmission.csv\")\n",
    "model_eval.compare_predictions_with(_predict_df, best_submission['Energy'])"
   ]
  }
 ],
 "metadata": {
  "kernelspec": {
   "display_name": "envBase",
   "language": "python",
   "name": "python3"
  },
  "language_info": {
   "codemirror_mode": {
    "name": "ipython",
    "version": 3
   },
   "file_extension": ".py",
   "mimetype": "text/x-python",
   "name": "python",
   "nbconvert_exporter": "python",
   "pygments_lexer": "ipython3",
   "version": "3.8.10"
  },
  "orig_nbformat": 4
 },
 "nbformat": 4,
 "nbformat_minor": 2
}
